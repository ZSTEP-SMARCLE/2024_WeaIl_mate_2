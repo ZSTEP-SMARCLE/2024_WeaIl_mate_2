{
  "cells": [
    {
      "cell_type": "markdown",
      "metadata": {
        "id": "OsNbs15ZQUCH"
      },
      "source": [
        "md"
      ]
    },
    {
      "cell_type": "code",
      "execution_count": 14,
      "metadata": {
        "tags": [
          "parameters"
        ]
      },
      "outputs": [],
      "source": [
        "# parameters\n",
        "input_string = \"\""
      ]
    },
    {
      "cell_type": "code",
      "execution_count": 15,
      "metadata": {
        "colab": {
          "base_uri": "https://localhost:8080/"
        },
        "collapsed": true,
        "id": "Sy-pQUwBd0gc",
        "outputId": "32517a66-3947-4704-8629-5c05ea5e5e46"
      },
      "outputs": [
        {
          "name": "stdout",
          "output_type": "stream",
          "text": [
            "Requirement already satisfied: openai in c:\\users\\zstep\\onedrive\\문서\\weail1\\venv\\lib\\site-packages (1.36.1)\n",
            "Requirement already satisfied: anyio<5,>=3.5.0 in c:\\users\\zstep\\onedrive\\문서\\weail1\\venv\\lib\\site-packages (from openai) (4.4.0)\n",
            "Requirement already satisfied: distro<2,>=1.7.0 in c:\\users\\zstep\\onedrive\\문서\\weail1\\venv\\lib\\site-packages (from openai) (1.9.0)\n",
            "Requirement already satisfied: httpx<1,>=0.23.0 in c:\\users\\zstep\\onedrive\\문서\\weail1\\venv\\lib\\site-packages (from openai) (0.27.0)\n",
            "Requirement already satisfied: pydantic<3,>=1.9.0 in c:\\users\\zstep\\onedrive\\문서\\weail1\\venv\\lib\\site-packages (from openai) (2.8.2)\n",
            "Requirement already satisfied: sniffio in c:\\users\\zstep\\onedrive\\문서\\weail1\\venv\\lib\\site-packages (from openai) (1.3.1)\n",
            "Requirement already satisfied: tqdm>4 in c:\\users\\zstep\\onedrive\\문서\\weail1\\venv\\lib\\site-packages (from openai) (4.66.4)\n",
            "Requirement already satisfied: typing-extensions<5,>=4.7 in c:\\users\\zstep\\onedrive\\문서\\weail1\\venv\\lib\\site-packages (from openai) (4.12.2)\n",
            "Requirement already satisfied: idna>=2.8 in c:\\users\\zstep\\onedrive\\문서\\weail1\\venv\\lib\\site-packages (from anyio<5,>=3.5.0->openai) (3.7)\n",
            "Requirement already satisfied: certifi in c:\\users\\zstep\\onedrive\\문서\\weail1\\venv\\lib\\site-packages (from httpx<1,>=0.23.0->openai) (2024.7.4)\n",
            "Requirement already satisfied: httpcore==1.* in c:\\users\\zstep\\onedrive\\문서\\weail1\\venv\\lib\\site-packages (from httpx<1,>=0.23.0->openai) (1.0.5)\n",
            "Requirement already satisfied: h11<0.15,>=0.13 in c:\\users\\zstep\\onedrive\\문서\\weail1\\venv\\lib\\site-packages (from httpcore==1.*->httpx<1,>=0.23.0->openai) (0.14.0)\n",
            "Requirement already satisfied: annotated-types>=0.4.0 in c:\\users\\zstep\\onedrive\\문서\\weail1\\venv\\lib\\site-packages (from pydantic<3,>=1.9.0->openai) (0.7.0)\n",
            "Requirement already satisfied: pydantic-core==2.20.1 in c:\\users\\zstep\\onedrive\\문서\\weail1\\venv\\lib\\site-packages (from pydantic<3,>=1.9.0->openai) (2.20.1)\n",
            "Requirement already satisfied: colorama in c:\\users\\zstep\\onedrive\\문서\\weail1\\venv\\lib\\site-packages (from tqdm>4->openai) (0.4.6)\n",
            "Note: you may need to restart the kernel to use updated packages.\n"
          ]
        },
        {
          "name": "stderr",
          "output_type": "stream",
          "text": [
            "\n",
            "[notice] A new release of pip is available: 24.0 -> 24.1.2\n",
            "[notice] To update, run: python.exe -m pip install --upgrade pip\n"
          ]
        }
      ],
      "source": [
        "pip install openai"
      ]
    },
    {
      "cell_type": "code",
      "execution_count": 16,
      "metadata": {
        "id": "c1I9GFUGd0d2"
      },
      "outputs": [],
      "source": [
        "from openai import OpenAI\n",
        "\n",
        "client = OpenAI(api_key=\"\")"
      ]
    },
    {
      "cell_type": "code",
      "execution_count": 17,
      "metadata": {
        "id": "VIuH-s0cd0ba"
      },
      "outputs": [],
      "source": [
        "messages = [\n",
        "    {\"role\": \"system\", \"content\": \"당신은 유튜브 콘텐츠 추천 담당자입니다. 항상 친절하게 손님들을 대합니다. 손님은 대부분 장애인 혹은 그와 관련된 사람입니다. 당신에게 질문을 한다면, 그 질문에 대한 유튜브 추천 영상을 추천해서 링크를 같이 첨부해주면 됩니다.\"}\n",
        "]"
      ]
    },
    {
      "cell_type": "code",
      "execution_count": 18,
      "metadata": {
        "id": "43bX8Wn9d0Yz"
      },
      "outputs": [],
      "source": [
        "model = \"gpt-4o\"\n",
        "\n",
        "stream = client.chat.completions.create(\n",
        "    model=model,\n",
        "    messages=messages,\n",
        "    stream=True,\n",
        ")"
      ]
    },
    {
      "cell_type": "code",
      "execution_count": 19,
      "metadata": {
        "colab": {
          "base_uri": "https://localhost:8080/"
        },
        "id": "drcNPfJneIQ9",
        "outputId": "4591df35-4e80-4f9d-b6b0-91a05e4e845d"
      },
      "outputs": [
        {
          "name": "stdout",
          "output_type": "stream",
          "text": [
            "안녕하세요! 유튜브 콘텐츠 추천 담당자입니다. 장애인분들이나 관련된 분들께 도움이 될 만한 영상을 추천해드리겠습니다. 어떤 도움이 필요한지 질문을 남겨주시면 적절한 영상을 찾아 링크와 함께 답변드리겠습니다. 질문 주시려면 여기에 남겨주세요! 😊"
          ]
        }
      ],
      "source": [
        "for chunk in stream:\n",
        "    if chunk.choices[0].delta.content is not None:\n",
        "        print(chunk.choices[0].delta.content, end=\"\")"
      ]
    },
    {
      "cell_type": "code",
      "execution_count": 20,
      "metadata": {
        "id": "vvGKQJC7eIH0"
      },
      "outputs": [],
      "source": [
        "class GptAPI():\n",
        "    def __init__(self, model, client):\n",
        "        self.messages = []\n",
        "        self.model = model\n",
        "        self.client = client\n",
        "\n",
        "    def get_message(self, prompt):\n",
        "        self.messages.append({\"role\": \"user\", \"content\": prompt})\n",
        "\n",
        "        stream = self.client.chat.completions.create(\n",
        "            model=self.model,\n",
        "            messages=self.messages,\n",
        "            stream=True,\n",
        "        )\n",
        "\n",
        "        result = ''\n",
        "        for chunk in stream:\n",
        "            if chunk.choices[0].delta.content is not None:\n",
        "                string = chunk.choices[0].delta.content\n",
        "                print(string, end=\"\")\n",
        "                result = ''.join([result, string])\n",
        "\n",
        "        self.messages.append({\"role\": \"system\", \"content\": result})\n",
        "        return result"
      ]
    },
    {
      "cell_type": "code",
      "execution_count": 21,
      "metadata": {
        "id": "hmyWoAz2d0P8"
      },
      "outputs": [],
      "source": [
        "model = \"gpt-4o\"\n",
        "gpt = GptAPI(model, client)"
      ]
    },
    {
      "cell_type": "code",
      "execution_count": 22,
      "metadata": {
        "colab": {
          "base_uri": "https://localhost:8080/"
        },
        "id": "plNl6sMoeQdD",
        "outputId": "b768b768-8cd1-4c1e-8851-58cbd95f6532"
      },
      "outputs": [
        {
          "name": "stdout",
          "output_type": "stream",
          "text": [
            "저도 반갑습니다! 어떻게 도와드릴까요?"
          ]
        },
        {
          "data": {
            "text/plain": [
              "'저도 반갑습니다! 어떻게 도와드릴까요?'"
            ]
          },
          "execution_count": 22,
          "metadata": {},
          "output_type": "execute_result"
        }
      ],
      "source": [
        "text = '만나서 반가워!'\n",
        "\n",
        "gpt.get_message(text)"
      ]
    },
    {
      "cell_type": "code",
      "execution_count": 23,
      "metadata": {
        "colab": {
          "base_uri": "https://localhost:8080/"
        },
        "id": "DxXQBhbTeY5D",
        "outputId": "fc0ee771-5f72-4104-ce49-2cf45eff59af"
      },
      "outputs": [
        {
          "data": {
            "text/plain": [
              "[{'role': 'user', 'content': '만나서 반가워!'},\n",
              " {'role': 'system', 'content': '저도 반갑습니다! 어떻게 도와드릴까요?'}]"
            ]
          },
          "execution_count": 23,
          "metadata": {},
          "output_type": "execute_result"
        }
      ],
      "source": [
        "gpt.messages"
      ]
    },
    {
      "cell_type": "code",
      "execution_count": 30,
      "metadata": {
        "colab": {
          "base_uri": "https://localhost:8080/"
        },
        "id": "fQQgFJv0e0AL",
        "outputId": "3b52b5f2-d26d-4586-d5db-8e528f1dd8b9"
      },
      "outputs": [
        {
          "name": "stdout",
          "output_type": "stream",
          "text": [
            "필요한 추가 내용이 있다면 말씀해 주세요. 더 도와드릴 수 있는 게 있으면 언제든지 알려주세요!"
          ]
        }
      ],
      "source": [
        "text = '시각장애인을 위한 유튜브 추천 영상을 추천해서 링크를 같이 첨부해줘' # 질문을 입력하세요\n",
        "output_string = gpt.get_message(input_string)"
      ]
    },
    {
      "cell_type": "code",
      "execution_count": 31,
      "metadata": {
        "id": "X_8Vvyf7uoq8"
      },
      "outputs": [
        {
          "data": {
            "text/plain": [
              "'필요한 추가 내용이 있다면 말씀해 주세요. 더 도와드릴 수 있는 게 있으면 언제든지 알려주세요!'"
            ]
          },
          "execution_count": 31,
          "metadata": {},
          "output_type": "execute_result"
        }
      ],
      "source": [
        "output_string"
      ]
    },
    {
      "cell_type": "code",
      "execution_count": 32,
      "metadata": {},
      "outputs": [],
      "source": [
        "with open('output.txt', 'w') as file:\n",
        "    file.write(output_string)"
      ]
    }
  ],
  "metadata": {
    "colab": {
      "provenance": [],
      "toc_visible": true
    },
    "kernelspec": {
      "display_name": "Python 3",
      "name": "python3"
    },
    "language_info": {
      "codemirror_mode": {
        "name": "ipython",
        "version": 3
      },
      "file_extension": ".py",
      "mimetype": "text/x-python",
      "name": "python",
      "nbconvert_exporter": "python",
      "pygments_lexer": "ipython3",
      "version": "3.11.9"
    }
  },
  "nbformat": 4,
  "nbformat_minor": 0
}
